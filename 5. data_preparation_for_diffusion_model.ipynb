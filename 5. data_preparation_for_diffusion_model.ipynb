{
 "cells": [
  {
   "cell_type": "markdown",
   "id": "f3a41059",
   "metadata": {},
   "source": [
    "### Construct the Full Training and Testing Set"
   ]
  },
  {
   "cell_type": "markdown",
   "id": "04852dd8",
   "metadata": {},
   "source": [
    "### One-Hot Encode the states Column"
   ]
  },
  {
   "cell_type": "code",
   "execution_count": 1,
   "id": "7f1305ff",
   "metadata": {},
   "outputs": [
    {
     "name": "stdout",
     "output_type": "stream",
     "text": [
      "        Date       AMZN  state_0  state_1  state_2  state_3  state_4\n",
      "0 2013-12-02  19.615000      0.0      0.0      0.0      1.0      0.0\n",
      "1 2013-12-03  19.233000      0.0      0.0      0.0      1.0      0.0\n",
      "2 2013-12-04  19.298000      0.0      0.0      0.0      1.0      0.0\n",
      "3 2013-12-05  19.224501      0.0      0.0      0.0      1.0      0.0\n",
      "4 2013-12-06  19.347500      0.0      0.0      0.0      1.0      0.0\n"
     ]
    }
   ],
   "source": [
    "# import neccessary library\n",
    "from general_used_functions import *\n",
    "from sklearn.preprocessing import OneHotEncoder\n",
    "\n",
    "config_data = load_config_file()\n",
    "selected_unsupervised_model = config_data['selected_unsupervised_model']\n",
    "stock_list = config_data['stock_dict']\n",
    "\n",
    "def load_states_data(stock, selected_model):\n",
    "    DATA_DIR = os.getcwd() + f'/data/{selected_model}_states/{stock}'\n",
    "\n",
    "    # Load the states data\n",
    "    training_states_data = pd.read_excel(DATA_DIR + f'/{stock}_{selected_model}_states(Training).xlsx')\n",
    "    test_states_data = pd.read_excel(DATA_DIR + f'/{stock}_{selected_model}_states(Testing).xlsx')\n",
    "\n",
    "    return training_states_data, test_states_data\n",
    "\n",
    "# Define a function for one-hot encoding the 'states' column\n",
    "def one_hot_encode_states(df):\n",
    "    # Create OneHotEncoder instance; sparse=False will return a dense array\n",
    "    ohe = OneHotEncoder(sparse_output=False)\n",
    "    # Fit and transform the 'states' column (must be 2D)\n",
    "    state_array = ohe.fit_transform(df[['states']])\n",
    "    # Create column names for each state, e.g., state_0, state_1, etc.\n",
    "    state_feature_names = [f\"state_{i}\" for i in range(state_array.shape[1])]\n",
    "    # Create a DataFrame for the encoded states, retaining the original index\n",
    "    state_df = pd.DataFrame(state_array, columns=state_feature_names, index=df.index)\n",
    "    # Concatenate the new one-hot encoded columns with the original DataFrame and drop the original 'states' column\n",
    "    df_encoded = pd.concat([df.drop(columns=['states']), state_df], axis=1)\n",
    "    return df_encoded\n",
    "\n",
    "# Process each stock and encode the regime states\n",
    "states_encoded_dict = {}\n",
    "for stock in stock_list:\n",
    "    if stock not in selected_unsupervised_model:\n",
    "        continue\n",
    "\n",
    "    # Load training and test states data\n",
    "    training_states_data, test_states_data = load_states_data(stock, selected_unsupervised_model[stock])\n",
    "\n",
    "    # Apply one-hot encoding on both training and test data\n",
    "    training_states_encoded = one_hot_encode_states(training_states_data)\n",
    "    test_states_encoded = one_hot_encode_states(test_states_data)\n",
    "\n",
    "    # Save the encoded data in a dictionary for later use\n",
    "    states_encoded_dict[stock] = (training_states_encoded, test_states_encoded)\n",
    "\n",
    "# Example: print the first few rows of the one-hot encoded training data for AAPL\n",
    "print(states_encoded_dict['AMZN'][0].head())"
   ]
  },
  {
   "cell_type": "code",
   "execution_count": 2,
   "id": "daffd03b",
   "metadata": {},
   "outputs": [],
   "source": [
    "# Load feature data\n",
    "training_feature_df = load_training_data()\n",
    "testing_feature_df = load_testing_data()\n",
    "\n",
    "def merge_encoded_states_with_features(stock, training_feature_df, testing_feature_df, states_encoded_dict):\n",
    "    # Extract the target columns for the current stock\n",
    "    target_columns = config_data['selected_features_dict'][stock]\n",
    "\n",
    "    # Extract feature data for the current stock\n",
    "    stock_training_features = training_feature_df[stock][target_columns]\n",
    "    stock_testing_features = testing_feature_df[stock][target_columns]\n",
    "\n",
    "    # Retrieve the one-hot encoded regime states\n",
    "    training_states_encoded, testing_states_encoded = states_encoded_dict[stock]\n",
    "\n",
    "    # Merge the feature data with the one-hot encoded regime states\n",
    "    merged_training_data = pd.concat([stock_training_features, training_states_encoded], axis=1)\n",
    "    merged_testing_data = pd.concat([stock_testing_features, testing_states_encoded], axis=1)\n",
    "\n",
    "    # Make sure the merged data has unique column names, lower(), otherwise, drop duplicates\n",
    "    merged_training_data.columns = merged_training_data.columns.str.lower()\n",
    "    merged_testing_data.columns = merged_testing_data.columns.str.lower()\n",
    "    merged_training_data = merged_training_data.loc[:, ~merged_training_data.columns.duplicated()]\n",
    "    merged_testing_data = merged_testing_data.loc[:, ~merged_testing_data.columns.duplicated()]\n",
    "\n",
    "    return merged_training_data, merged_testing_data\n",
    "\n",
    "for stock in stock_list:\n",
    "    if stock not in selected_unsupervised_model:\n",
    "        continue\n",
    "\n",
    "    # Merge the encoded states with the feature data for the current stock\n",
    "    merged_training_data, merged_testing_data = merge_encoded_states_with_features(stock, training_feature_df, testing_feature_df, states_encoded_dict)\n",
    "   \n",
    "\n",
    "    # Save the merged data to Excel files\n",
    "    training_save_dir = os.getcwd() + f'/data/diffusion_training_data/{stock}'\n",
    "    testing_save_dir = os.getcwd() + f'/data/diffusion_testing_data/{stock}'\n",
    "    os.makedirs(training_save_dir, exist_ok=True)\n",
    "    os.makedirs(testing_save_dir, exist_ok=True)\n",
    "\n",
    "    merged_training_data.to_excel(training_save_dir + f'/{stock}_training_data.xlsx', index=False)\n",
    "    merged_testing_data.to_excel(testing_save_dir + f'/{stock}_testing_data.xlsx', index=False)"
   ]
  }
 ],
 "metadata": {
  "kernelspec": {
   "display_name": "Python 3",
   "language": "python",
   "name": "python3"
  },
  "language_info": {
   "codemirror_mode": {
    "name": "ipython",
    "version": 3
   },
   "file_extension": ".py",
   "mimetype": "text/x-python",
   "name": "python",
   "nbconvert_exporter": "python",
   "pygments_lexer": "ipython3",
   "version": "3.9.1"
  }
 },
 "nbformat": 4,
 "nbformat_minor": 5
}
