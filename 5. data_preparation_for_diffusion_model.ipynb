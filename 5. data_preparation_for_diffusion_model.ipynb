{
 "cells": [
  {
   "cell_type": "markdown",
   "id": "f3a41059",
   "metadata": {},
   "source": [
    "### Construct the Full Training and Testing Set"
   ]
  },
  {
   "cell_type": "markdown",
   "id": "04852dd8",
   "metadata": {},
   "source": [
    "### One-Hot Encode th