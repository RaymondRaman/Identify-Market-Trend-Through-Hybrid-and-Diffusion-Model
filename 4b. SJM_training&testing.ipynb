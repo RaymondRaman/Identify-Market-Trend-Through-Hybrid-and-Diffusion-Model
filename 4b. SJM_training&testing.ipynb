{
 "cells": [
  {
   "cell_type": "code",
   "execution_count": 1,
   "metadata": {},
   "outputs": [],
   "source": [
    "# import neccessary library\n",
    "from general_used_functions import *"
   ]
  },
  {
   "cell_type": "markdown",
   "metadata": {},
   "source": [
    "### Model Training "
   ]
  },
  {
   "cell_type": "code",
   "execution_count": 2,
   "metadata": {},
   "outputs": [
    {
     "ename": "ModuleNotFoundError",
     "evalue": "No module named 'jumpmodels'",
     "output_type": "error",
     "traceback": [
      "\u001b[0;31m---------------------------------------------------------------------------\u001b[0m",
      "\u001b[0;31mModuleNotFoundError\u001b[0m                       Traceback (most recent call last)",
      "Cell \u001b[0;32mIn[2], line 7\u001b[0m\n\u001b[1;32m      4\u001b[0m training_stock_df \u001b[38;5;241m=\u001b[39m load_training_data()\n\u001b[1;32m      6\u001b[0m \u001b[38;5;66;03m# Import required modules\u001b[39;00m\n\u001b[0;32m----> 7\u001b[0m \u001b[38;5;28;01mfrom\u001b[39;00m \u001b[38;5;21;01mjumpmodels\u001b[39;00m\u001b[38;5;21;01m.\u001b[39;00m\u001b[38;5;21;01msparse_jump\u001b[39;00m \u001b[38;5;28;01mimport\u001b[39;00m SparseJumpModel\n\u001b[1;32m      8\u001b[0m \u001b[38;5;28;01mfrom\u001b[39;00m \u001b[38;5;21;01mjumpmodels\u001b[39;00m\u001b[38;5;21;01m.\u001b[39;00m\u001b[38;5;21;01mpreprocess\u001b[39;00m \u001b[38;5;28;01mimport\u001b[39;00m StandardScalerPD, DataClipperStd\n\u001b[1;32m     10\u001b[0m \u001b[38;5;28;01mdef\u001b[39;00m \u001b[38;5;21mSJM_training\u001b[39m(stock, train_df, n_components\u001b[38;5;241m=\u001b[39m\u001b[38;5;241m2\u001b[39m, max_feats\u001b[38;5;241m=\u001b[39m\u001b[38;5;241m3\u001b[39m, jump_penalty\u001b[38;5;241m=\u001b[39m\u001b[38;5;241m50.0\u001b[39m):\n",
      "\u001b[0;31mModuleNotFoundError\u001b[0m: No module named 'jumpmodels'"
     ]
    }
   ],
   "source": [
    "# Load training data\n",
    "config_data = load_config_file()\n",
    "stock_list = config_data['stock_dict']\n",
    "training_stock_df = load_training_data()\n",
    "\n",
    "# Import required modules\n",
    "from jumpmodels.sparse_jump import SparseJumpModel\n",
    "from jumpmodels.preprocess import StandardScalerPD, DataClipperStd\n",
    "\n",
    "def SJM_training(stock, train_df, n_components=2, max_feats=3, jump_penalty=50.0):\n",
    "    \"\"\"Train a Sparse Jump Model for regime identification with proper preprocessing\"\"\"\n",
    "    # Feature processing pipeline\n",
    "    clipper = DataClipperStd(mul=3.)\n",
    "    scaler = StandardScalerPD()\n",
    "    \n",
    "    # Process features\n",
    "    features = train_df.drop(columns=['date'])\n",
    "    features_processed = scaler.fit_transform(clipper.fit_transform(features))\n",
    "\n",
    "    # Initialize and train SJM with recommended parameters\n",
    "    model = SparseJumpModel(\n",
    "        n_components=n_components,\n",
    "        max_feats=max_feats,\n",
    "        jump_penalty=jump_penalty,\n",
    "        max_iter=10000, \n",
    "        random_state=42\n",
    "    )\n",
    "    \n",
    "    # Fit model with returns series for regime sorting\n",
    "    ret_ser = train_df[stock]  # Ensure returns are calculated\n",
    "    model.fit(features_processed, ret_ser=ret_ser, sort_by=\"cumret\")\n",
    "\n",
    "    # Get regime labels\n",
    "    hidden_states = model.labels_\n",
    "\n",
    "    # Build states DataFrame\n",
    "    states = pd.DataFrame({\n",
    "        'Date': train_df['date'],\n",
    "        stock: train_df[stock],\n",
    "        'states': hidden_states\n",
    "    })\n",
    "\n",
    "    # Visualize results\n",
    "    plot_market_regime(states, stock)\n",
    "    \n",
    "    return model, states\n",
    "\n",
    "# Example usage\n",
    "stock = 'GOOGL'\n",
    "target_columns = config_data['selected_features_dict'][stock]\n",
    "train_df = training_stock_df[stock][target_columns]\n",
    "\n",
    "# Train with recommended parameters\n",
    "model, states = SJM_training(\n",
    "    stock, \n",
    "    train_df,\n",
    "    n_components=2,  # Reduced from 5 components (search results show better performance with 2)\n",
    "    max_feats=3,\n",
    "    jump_penalty=50.0\n",
    ")\n"
   ]
  },
  {
   "cell_type": "code",
   "execution_count": null,
   "metadata": {},
   "outputs": [],
   "source": [
    "# # Save the model and states\n",
    "# save_HMM_states_excel(stock, states)\n",
    "# save_HMM_model(stock, model)"
   ]
  },
  {
   "cell_type": "code",
   "execution_count": null,
   "metadata": {},
   "outputs": [],
   "source": [
    "# def SJM_testing(stock, test_df, model):\n",
    "#     \"\"\"Test a trained SJM model on new data\"\"\"\n",
    "#     # Exclude the date column when testing the model\n",
    "#     features = test_df.drop(columns=['date'])\n",
    "    \n",
    "#     # Predict hidden states using the trained model\n",
    "#     hidden_states = model.predict_hidden_states(features)\n",
    "\n",
    "#     # Build the states DataFrame\n",
    "#     states = pd.DataFrame({\n",
    "#         'Date': test_df['date'],\n",
    "#         stock: test_df[stock],\n",
    "#         'states': hidden_states\n",
    "#     })\n",
    "\n",
    "#     # Visualize the results\n",
    "#     plot_market_regime(states, stock, True)\n",
    "\n",
    "#     return states\n",
    "\n",
    "\n",
    "# # Load testing data\n",
    "# config_data = load_config_file()\n",
    "# stock_list = config_data['stock_dict']\n",
    "# testing_stock_df = load_testing_data()\n",
    "# target_columns = config_data['selected_features_dict'][stock]\n",
    "# test_df = testing_stock_df[stock][target_columns]\n",
    "\n",
    "# model = joblib.load(f'model/{stock}_HMM_model.joblib')\n",
    "# states = HMM_testing(stock, test_df, model)\n"
   ]
  }
 ],
 "metadata": {
  "kernelspec": {
   "display_name": "Python 3",
   "language": "python",
   "name": "python3"
  },
  "language_info": {
   "codemirror_mode": {
    "name": "ipython",
    "version": 3
   },
   "file_extension": ".py",
   "mimetype": "text/x-python",
   "name": "python",
   "nbconvert_exporter": "python",
   "pygments_lexer": "ipython3",
   "version": "3.9.1"
  }
 },
 "nbformat": 4,
 "nbformat_minor": 2
}
