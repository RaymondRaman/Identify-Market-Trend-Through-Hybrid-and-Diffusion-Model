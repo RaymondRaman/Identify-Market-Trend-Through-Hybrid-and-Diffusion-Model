{
 "cells": [
  {
   "cell_type": "markdown",
   "id": "4b668c5a",
   "metadata": {},
   "source": [
    "### Adopted Diffusion Model: Auto-Regressive Moving Diffusion Models (ARMD)"
   ]
  }
 ],
 "metadata": {
  "language_info": {
   "name": "python"
  }
 },
 "nbformat": 4,
 "nbformat_minor": 5
}
