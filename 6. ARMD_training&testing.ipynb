{
 "cells": [
  {
   "cell_type": "markdown",
   "id": "4b668c5a",
   "metadata": {},
   "source": [
    "### Adopted Diffusion Model: Auto-Regressive Moving Diffusion Models (ARMD)"
   ]
  },
  {
   "cell_type": "code",
   "execution_count": 1,
   "id": "d7c826fd",
   "metadata": {},
   "outputs": [
    {
     "name": "stdout",
     "output_type": "stream",
     "text": [
      "Note: you may need to restart the kernel to use updated packages.\n",
      "['GOOGL_armd_config.yaml', 'NVDA_armd_config.yaml', 'META_armd_config.yaml', 'MSFT_armd_config.yaml', 'AMZN_armd_config.yaml', 'NFLX_armd_config.yaml', 'TSLA_armd_config.yaml']\n",
      "Training model with config: ./ARMD/Config/GOOGL_armd_config.yaml\n"
     ]
    },
    {
     "name": "stderr",
     "output_type": "stream",
     "text": [
      "/Users/raymondli/.pyenv/versions/3.9.1/lib/python3.9/site-packages/gluonts/json.py:101: UserWarning: Using `json`-module for json-handling. Consider installing one of `orjson`, `ujson` to speed up serialization and deserialization.\n",
      "  warnings.warn(\n",
      "loss: 6.262284: 100%|██████████| 2000/2000 [00:31<00:00, 63.31it/s]   \n"
     ]
    },
    {
     "name": "stdout",
     "output_type": "stream",
     "text": [
      "training complete\n"
     ]
    },
    {
     "name": "stderr",
     "output_type": "stream",
     "text": [
      "sampling loop time step: 100%|██████████| 1/1 [00:00<00:00, 334.34it/s]\n"
     ]
    },
    {
     "name": "stdout",
     "output_type": "stream",
     "text": [
      "MSE (Stock Price): 1.0004919839409272\n",
      "MAE (Stock Price): 0.9571550591281491\n"
     ]
    },
    {
     "data": {
      "text/plain": [
       "CompletedProcess(args=['python', './ARMD/main.py', '--config', './ARMD/Config/GOOGL_armd_config.yaml'], returncode=0)"
      ]
     },
     "execution_count": 1,
     "metadata": {},
     "output_type": "execute_result"
    }
   ],
   "source": [
    "import os\n",
    "import subprocess\n",
    "%pip install -r ./ARMD/requirements.txt >> /dev/null\n",
    "\n",
    "import pandas as pd\n",
    "\n",
    "config_dir = \"./ARMD/Config\"\n",
    "# Get all config files ending with '_armd_config.yaml'\n",
    "config_files = [f for f in os.listdir(config_dir) if f.endswith(\"_armd_config.yaml\")]\n",
    "\n",
    "print(config_files)\n",
    "config_file = config_files[0]  # Select the target config file\n",
    "config_path = os.path.join(config_dir, config_file)\n",
    "print(f\"Training model with config: {config_path}\")\n",
    "# Call the training script with the config file\n",
    "subprocess.run([\"python\", \"./ARMD/main.py\", \"--config\", config_path])\n"
   ]
  }
 ],
 "metadata": {
  "kernelspec": {
   "display_name": "Python 3",
   "language": "python",
   "name": "python3"
  },
  "language_info": {
   "codemirror_mode": {
    "name": "ipython",
    "version": 3
   },
   "file_extension": ".py",
   "mimetype": "text/x-python",
   "name": "python",
   "nbconvert_exporter": "python",
   "pygments_lexer": "ipython3",
   "version": "3.9.1"
  }
 },
 "nbformat": 4,
 "nbformat_minor": 5
}
